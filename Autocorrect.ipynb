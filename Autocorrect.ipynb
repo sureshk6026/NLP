{
  "nbformat": 4,
  "nbformat_minor": 0,
  "metadata": {
    "colab": {
      "provenance": []
    },
    "kernelspec": {
      "name": "python3",
      "display_name": "Python 3"
    },
    "language_info": {
      "name": "python"
    }
  },
  "cells": [
    {
      "cell_type": "code",
      "execution_count": 1,
      "metadata": {
        "id": "WZRRYSVZrc5j"
      },
      "outputs": [],
      "source": [
        "from textblob import Word\n",
        "from textblob import TextBlob"
      ]
    },
    {
      "cell_type": "code",
      "source": [
        "def correct_spelling(sentence):\n",
        "    \n",
        "    sentence = TextBlob(sentence)\n",
        "    \n",
        "    result = sentence.correct()\n",
        "    \n",
        "    print(result)"
      ],
      "metadata": {
        "id": "2nL_-fhwtxaG"
      },
      "execution_count": 3,
      "outputs": []
    },
    {
      "cell_type": "code",
      "source": [
        "Incorrect_words=['accomodation','adress','wether','rehersal','commited','persue','occurence']"
      ],
      "metadata": {
        "id": "4MY_W4C6t1y9"
      },
      "execution_count": 4,
      "outputs": []
    },
    {
      "cell_type": "code",
      "source": [
        "Incorrect_Sents=[\"I am a boi\",'I am having breade',' He doed not have a laptup.','Does she have a kar?']"
      ],
      "metadata": {
        "id": "w-In6XckuCZs"
      },
      "execution_count": 5,
      "outputs": []
    },
    {
      "cell_type": "code",
      "source": [
        "for i in Incorrect_words:\n",
        "    correct_spelling(i)"
      ],
      "metadata": {
        "colab": {
          "base_uri": "https://localhost:8080/"
        },
        "id": "RLB3RVStuGC7",
        "outputId": "1c6537f8-1a3c-4999-d3f8-b250c07960a0"
      },
      "execution_count": 6,
      "outputs": [
        {
          "output_type": "stream",
          "name": "stdout",
          "text": [
            "accommodation\n",
            "dress\n",
            "whether\n",
            "reversal\n",
            "committed\n",
            "pursue\n",
            "occurrence\n"
          ]
        }
      ]
    },
    {
      "cell_type": "code",
      "source": [
        "for i in Incorrect_Sents:\n",
        "    correct_spelling(i)"
      ],
      "metadata": {
        "colab": {
          "base_uri": "https://localhost:8080/"
        },
        "id": "gPvrhmlbuKp7",
        "outputId": "8391c165-43e4-4060-bb16-ab5d6b55b2b9"
      },
      "execution_count": 7,
      "outputs": [
        {
          "output_type": "stream",
          "name": "stdout",
          "text": [
            "I am a boy\n",
            "I am having bread\n",
            " He does not have a laptup.\n",
            "Does she have a war?\n"
          ]
        }
      ]
    },
    {
      "cell_type": "code",
      "source": [],
      "metadata": {
        "id": "v4R7Tw4buPr7"
      },
      "execution_count": null,
      "outputs": []
    }
  ]
}