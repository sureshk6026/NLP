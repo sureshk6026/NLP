{
  "nbformat": 4,
  "nbformat_minor": 0,
  "metadata": {
    "colab": {
      "provenance": []
    },
    "kernelspec": {
      "name": "python3",
      "display_name": "Python 3"
    },
    "language_info": {
      "name": "python"
    }
  },
  "cells": [
    {
      "cell_type": "code",
      "execution_count": 1,
      "metadata": {
        "id": "Pe974Hz3kSfK"
      },
      "outputs": [],
      "source": [
        "import io\n",
        "import random\n",
        "import string\n",
        "import numpy as np\n",
        "from sklearn.feature_extraction.text import TfidfVectorizer\n",
        "from sklearn.metrics.pairwise import cosine_similarity\n",
        "import warnings\n",
        "warnings.filterwarnings('ignore')"
      ]
    },
    {
      "cell_type": "code",
      "source": [
        "import nltk\n",
        "from nltk.stem import WordNetLemmatizer\n",
        "nltk.download('popular',quiet=True)"
      ],
      "metadata": {
        "colab": {
          "base_uri": "https://localhost:8080/"
        },
        "id": "pq4iKj43kqiD",
        "outputId": "53c60c56-694b-4112-b4ec-bfd2a2071c27"
      },
      "execution_count": 2,
      "outputs": [
        {
          "output_type": "execute_result",
          "data": {
            "text/plain": [
              "True"
            ]
          },
          "metadata": {},
          "execution_count": 2
        }
      ]
    },
    {
      "cell_type": "code",
      "source": [
        "tokens=[]"
      ],
      "metadata": {
        "id": "rkcm2fzEky2S"
      },
      "execution_count": 3,
      "outputs": []
    },
    {
      "cell_type": "code",
      "source": [
        "lemmer=nltk.stem.WordNetLemmatizer()\n",
        "#wordnet is a semantically oriented dictionary of English Included in NLTK\n",
        "def LemTokens(tokens):\n",
        "    return[lemmer.lemmatize(token) for token in tokens]\n",
        "remove_punct_dict=dict((ord(punct),None)for punct in string.punctuation)\n",
        "\n",
        "def LemNormalize(text):\n",
        "    return LemTokens(nltk.word_tokenize(text.lower().translate(remove_punct_dict)))"
      ],
      "metadata": {
        "id": "8SeEP9efk3VK"
      },
      "execution_count": 4,
      "outputs": []
    },
    {
      "cell_type": "code",
      "source": [
        "Greeting_Inputs=(\"hello\",\"hi\",\"greetings\",\"sup\",\"what's up\",\"hey\")\n",
        "Greeting_Responses=[\"hi,how can i be of service?\",\"hey,how can i assist you?\",\"hi there,What do you need?\",\"hello,What do you need?\",\"Welcome,how cani i help you\"]\n",
        "def greeting(sentence):\n",
        "    \n",
        "    for word in sentence.split():\n",
        "        if word.lower() in Greeting_Inputs:\n",
        "            return random.choice(Greeting_Responses)\n",
        "\n",
        "User_Inputs=(\"I'd like to make a booking\",\"booking\",\"need to make a booking\",\"can you tell me about booking?\",\"can i make a booking?\",\n",
        "            \"i need to make a booking\",\"i don't know\",\"tell me about this website\",\"anything\")\n",
        "User_Responses=[\"You are on our travel website,and you can make bookings,Would you like to proceed further?\"]\n",
        "\n",
        "def Booking(sentence):\n",
        "    \n",
        "    for word in sentence.split():\n",
        "            return random.choice(User_Responses)"
      ],
      "metadata": {
        "id": "OZKYj2P0k7F5"
      },
      "execution_count": 5,
      "outputs": []
    },
    {
      "cell_type": "code",
      "source": [
        "def response(user_response):\n",
        "    robo_response=''\n",
        "    tokens.append(user_response)\n",
        "    TfidfVec = TfidfVectorizer(tokenizer=LemNormalize,stop_words='english')\n",
        "    tfidf=TfidfVec.fit_transform(tokens)\n",
        "    vals=cosine_similarity(tfidf[-1],tfidf)\n",
        "    idx=vals.argsort()[0][-2]\n",
        "    flat=vals.flatten()\n",
        "    flat.sort()\n",
        "    req_tfidf=flat[-2]\n",
        "    if(req_tfidf==0):\n",
        "        robo_response=robo_response + \"I am sorry! I don't understand you\"\n",
        "        return robo_response\n",
        "    else:\n",
        "        robo_response=robo_response+tokens[idx]\n",
        "        return robo_response"
      ],
      "metadata": {
        "id": "jAn97zjRk_qZ"
      },
      "execution_count": 6,
      "outputs": []
    },
    {
      "cell_type": "code",
      "source": [
        "flag=True\n",
        "x=\"\"\n",
        "print(\"ROBO: My name is ROBO.I will answer your queries,If you want to exit,type 'Bye'\")\n",
        "while(flag==True):\n",
        "    user_response = input()\n",
        "    user_response=user_response.lower()\n",
        "    if(user_response!='bye'):\n",
        "        if(user_response=='thanks' or user_response=='thank you'):\n",
        "            flag=False\n",
        "            print(\"ROBO:You are welcome..\")\n",
        "        else:\n",
        "            if(greeting(user_response)!=None):\n",
        "                print(\"ROBO: \"+greeting(user_response))\n",
        "            elif(user_response!=None):\n",
        "                print(\"ROBO:\"+Booking(user_response))\n",
        "                x=input().lower()\n",
        "                break\n",
        "            else:\n",
        "                print(\"ROBO: \",end=\"\")\n",
        "                print(response(user_response))\n",
        "    else:\n",
        "        flag=False\n",
        "        print(\"ROBO: Bye! take careÆʔv bb....\")\n",
        "rooms=[\"a\",\"b\",\"c\"]\n",
        "\n",
        "def room(x):\n",
        "    \n",
        "    if x not in rooms:\n",
        "        print(\"enter valid choice\")\n",
        "        x=input()\n",
        "        room(x)\n",
        "checkindates=[]\n",
        "def checkin(date):\n",
        "    lis=list(map(int,date))\n",
        "    if len(lis)<3:\n",
        "        print(\"enter valid choice\")\n",
        "        date=input().split()\n",
        "        checkin(date)\n",
        "        checkindates.append(list(map(int,date)))\n",
        "checkoutdates=[]\n",
        "def checkout(date):\n",
        "    lis=list(map(int,date))\n",
        "    if len(lis)<3:\n",
        "        print(\"enter valid choice\")\n",
        "        date=input().split()\n",
        "        checkout(date)\n",
        "        checkoutdates.append(list(map(int,date)))\n",
        "\n",
        "if x==\"yes\":\n",
        "    print(\"Enter User details\")\n",
        "    print(\"What is Your Name:\")\n",
        "    Customer_name =input()\n",
        "    print(\"Please tell us Mobile Number:\")\n",
        "    Customer_Number=input()\n",
        "    print(\"Can you give us your Address:\")\n",
        "    Customer_Address =input()\n",
        "    print(\"Enter ID proof\")\n",
        "    Customer_ID =input()\n",
        "    print(\"Now we go to your booking\")\n",
        "    print(\"We have 3 type of stays:\")\n",
        "    print(\"a.Single room\\nb.Suite\\n c.hall.Which one would you like to book?\")\n",
        "    roomtype=input()\n",
        "    room(roomtype)\n",
        "    print(\"enter check-in date [DD MM YY]\")\n",
        "    checkindate=input().split()\n",
        "    checkin(checkindate)\n",
        "    print(\"enter check-out date [DD MM YY]\")\n",
        "    checkoutdate=input().split()\n",
        "    checkout(checkoutdate)\n",
        "    print(\"You have booked for checkin dates:\",checkindates,\"\\n\",\"checkout dates:\",checkoutdates)\n",
        "else:\n",
        "    print(\"Thank you for visiting our page\")\n",
        "\n"
      ],
      "metadata": {
        "colab": {
          "base_uri": "https://localhost:8080/"
        },
        "id": "a3YwLfJ6lEj5",
        "outputId": "24201b09-58c6-450f-fd45-7bb3b6adfb97"
      },
      "execution_count": 8,
      "outputs": [
        {
          "output_type": "stream",
          "name": "stdout",
          "text": [
            "ROBO: My name is ROBO.I will answer your queries,If you want to exit,type 'Bye'\n",
            "hi\n",
            "ROBO: hey,how can i assist you?\n",
            "room\n",
            "ROBO:You are on our travel website,and you can make bookings,Would you like to proceed further?\n",
            "yes\n",
            "Enter User details\n",
            "What is Your Name:\n",
            "rooney\n",
            "Please tell us Mobile Number:\n",
            "1234567891\n",
            "Can you give us your Address:\n",
            "dubai\n",
            "Enter ID proof\n",
            "123456\n",
            "Now we go to your booking\n",
            "We have 3 type of stays:\n",
            "a.Single room\n",
            "b.Suite\n",
            " c.hall.Which one would you like to book?\n",
            "a\n",
            "enter check-in date [DD MM YY]\n",
            "25 01 23\n",
            "enter check-out date [DD MM YY]\n",
            "27 01 23\n",
            "You have booked for checkin dates: [] \n",
            " checkout dates: []\n"
          ]
        }
      ]
    },
    {
      "cell_type": "code",
      "source": [],
      "metadata": {
        "id": "neE0K2Ltlo2B"
      },
      "execution_count": null,
      "outputs": []
    }
  ]
}